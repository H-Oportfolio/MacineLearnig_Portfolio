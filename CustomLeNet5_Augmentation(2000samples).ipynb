{
  "nbformat": 4,
  "nbformat_minor": 0,
  "metadata": {
    "colab": {
      "provenance": [],
      "gpuType": "T4"
    },
    "kernelspec": {
      "name": "python3",
      "display_name": "Python 3"
    },
    "language_info": {
      "name": "python"
    },
    "accelerator": "GPU"
  },
  "cells": [
    {
      "cell_type": "code",
      "execution_count": null,
      "metadata": {
        "id": "CQSseRGozROs",
        "colab": {
          "base_uri": "https://localhost:8080/"
        },
        "outputId": "633f9cf2-40ba-4008-a5aa-02e08a525422"
      },
      "outputs": [
        {
          "output_type": "stream",
          "name": "stdout",
          "text": [
            "\u001b[?25l   \u001b[90m━━━━━━━━━━━━━━━━━━━━━━━━━━━━━━━━━━━━━━━━\u001b[0m \u001b[32m0.0/129.1 kB\u001b[0m \u001b[31m?\u001b[0m eta \u001b[36m-:--:--\u001b[0m\r\u001b[2K   \u001b[90m━━━━━━━━━━━━━━━━━━━━━━━━━━━━━━━━━━━━━━━━\u001b[0m \u001b[32m129.1/129.1 kB\u001b[0m \u001b[31m8.3 MB/s\u001b[0m eta \u001b[36m0:00:00\u001b[0m\n",
            "\u001b[?25h"
          ]
        }
      ],
      "source": [
        "import keras\n",
        "from keras.datasets import mnist\n",
        "from keras.models import Sequential\n",
        "from keras import layers\n",
        "from keras.layers import Dense, Dropout, InputLayer, Conv2D, MaxPooling2D, Flatten ,BatchNormalization\n",
        "from keras.optimizers import Adam\n",
        "from tensorflow.keras.preprocessing.image import ImageDataGenerator\n",
        "!pip install -q -U keras-tuner\n",
        "import keras_tuner as kt"
      ]
    },
    {
      "cell_type": "code",
      "source": [
        "# MNISTデータを読込む\n",
        "(x_train, y_train), (x_test, y_test) = mnist.load_data()\n",
        "\n",
        "# MNISTデータを加工する\n",
        "img_rows, img_cols = 28, 28\n",
        "x_train = x_train.reshape(x_train.shape[0], img_rows, img_cols, 1)\n",
        "x_test = x_test.reshape(x_test.shape[0], img_rows, img_cols, 1)\n",
        "# リストの後ろからN個の要素を削除\n",
        "x_train = x_train[:-58000]\n",
        "y_train = y_train[:-58000]\n",
        "x_train  = x_train.astype('float32')\n",
        "x_test   = x_test.astype('float32')\n",
        "x_train /= 255\n",
        "x_test  /= 255\n",
        "y_train  = keras.utils.to_categorical(y_train, 10)\n",
        "y_test   = keras.utils.to_categorical(y_test, 10)"
      ],
      "metadata": {
        "id": "HTHw4F5Hze08",
        "colab": {
          "base_uri": "https://localhost:8080/"
        },
        "outputId": "ece3a008-6a69-42f1-ab49-61c0808947f8"
      },
      "execution_count": null,
      "outputs": [
        {
          "output_type": "stream",
          "name": "stdout",
          "text": [
            "Downloading data from https://storage.googleapis.com/tensorflow/tf-keras-datasets/mnist.npz\n",
            "\u001b[1m11490434/11490434\u001b[0m \u001b[32m━━━━━━━━━━━━━━━━━━━━\u001b[0m\u001b[37m\u001b[0m \u001b[1m2s\u001b[0m 0us/step\n"
          ]
        }
      ]
    },
    {
      "cell_type": "code",
      "source": [
        "#データ拡張\n",
        "datagen = ImageDataGenerator(\n",
        "    rotation_range=10,\n",
        "    zoom_range=0.1,\n",
        "    width_shift_range=0.1,\n",
        "    height_shift_range=0.1\n",
        ")\n",
        "datagen.fit(x_train)"
      ],
      "metadata": {
        "id": "aZe3pb_m0BGx"
      },
      "execution_count": null,
      "outputs": []
    },
    {
      "cell_type": "code",
      "source": [
        "#モデルを定義する\n",
        "def build_model(hp):\n",
        "  model = Sequential()\n",
        "  model.add(InputLayer(input_shape=(img_rows, img_cols, 1)))\n",
        "  #畳み込み層(1)\n",
        "  model.add(Conv2D(filters=hp.Choice('filters1', [6, 16, 32]), kernel_size=(3, 3), activation='relu'))\n",
        "  #プーリング層(1)\n",
        "  model.add(MaxPooling2D(pool_size=(2, 2)))\n",
        "  #畳み込み層(2)\n",
        "  model.add(Conv2D(filters=hp.Choice('filters2', [16, 32, 64]), kernel_size=(3, 3), activation='relu'))\n",
        "  #プーリング層(2)\n",
        "  model.add(MaxPooling2D(pool_size=(2, 2)))\n",
        "  model.add(Flatten())\n",
        "  model.add(Dense(hp.Int('dense_units', 32, 512, step=32), activation='relu'))\n",
        "  model.add(BatchNormalization())\n",
        "  model.add(Dropout(hp.Float('dropout_rate', 0.1, 0.5, step=0.1)))\n",
        "  model.add(Dense(units=120, activation=hp.Choice(\"activation1\", [\"relu\", \"tanh\"])))\n",
        "  model.add(Dense(units=84, activation=hp.Choice(\"activation2\", [\"relu\", \"tanh\"])))\n",
        "  model.add(Dense(units=10, activation = 'softmax'))\n",
        "  learning_rate = hp.Float(\"lr\", min_value=1e-5, max_value=1e-2, sampling=\"log\")\n",
        "  model.compile(\n",
        "        optimizer=keras.optimizers.Adam(learning_rate=learning_rate),\n",
        "        loss=\"categorical_crossentropy\",\n",
        "        metrics=[\"accuracy\"],\n",
        "    )\n",
        "  return model"
      ],
      "metadata": {
        "id": "2H7LRUhczfaR"
      },
      "execution_count": null,
      "outputs": []
    },
    {
      "cell_type": "code",
      "source": [
        "#ハイパーパラメータ探索を行うTunerを作成\n",
        "tuner = kt.Hyperband(\n",
        "    hypermodel=build_model,\n",
        "    objective='val_accuracy',\n",
        "    max_epochs=60,\n",
        ")"
      ],
      "metadata": {
        "id": "Jq2G2zVrzjJH",
        "colab": {
          "base_uri": "https://localhost:8080/"
        },
        "outputId": "f04f1255-927a-40f4-9411-2d1cb90138f1"
      },
      "execution_count": null,
      "outputs": [
        {
          "output_type": "stream",
          "name": "stderr",
          "text": [
            "/usr/local/lib/python3.11/dist-packages/keras/src/layers/core/input_layer.py:27: UserWarning: Argument `input_shape` is deprecated. Use `shape` instead.\n",
            "  warnings.warn(\n"
          ]
        }
      ]
    },
    {
      "cell_type": "code",
      "source": [
        "#実際に探索する\n",
        "tuner.search(datagen.flow(x_train, y_train, batch_size=64),\n",
        "             validation_data=(x_test, y_test),\n",
        "             callbacks=[keras.callbacks.EarlyStopping(monitor='val_accuracy', mode='max', patience=10)], epochs=60)"
      ],
      "metadata": {
        "id": "e9FTELvxzmq0",
        "colab": {
          "base_uri": "https://localhost:8080/"
        },
        "outputId": "62c4537b-2222-429c-e510-fdec0f304f43"
      },
      "execution_count": null,
      "outputs": [
        {
          "output_type": "stream",
          "name": "stdout",
          "text": [
            "Trial 90 Complete [00h 01m 51s]\n",
            "val_accuracy: 0.8924999833106995\n",
            "\n",
            "Best val_accuracy So Far: 0.9825000166893005\n",
            "Total elapsed time: 00h 41m 48s\n"
          ]
        }
      ]
    },
    {
      "cell_type": "code",
      "source": [
        "models = tuner.get_best_models(num_models=2)\n",
        "best_model = models[0]\n",
        "score = best_model.evaluate(x_test, y_test, verbose=1)\n",
        "print(\"Test loss:\", score[0])\n",
        "print(\"Test accuracy:\", score[1])"
      ],
      "metadata": {
        "id": "YQA2yxqNzqRh",
        "colab": {
          "base_uri": "https://localhost:8080/"
        },
        "outputId": "5773b26b-2b79-43d3-b322-b494f808f06a"
      },
      "execution_count": null,
      "outputs": [
        {
          "output_type": "stream",
          "name": "stdout",
          "text": [
            "\u001b[1m313/313\u001b[0m \u001b[32m━━━━━━━━━━━━━━━━━━━━\u001b[0m\u001b[37m\u001b[0m \u001b[1m2s\u001b[0m 3ms/step - accuracy: 0.9792 - loss: 0.0703\n",
            "Test loss: 0.060393884778022766\n",
            "Test accuracy: 0.9825000166893005\n"
          ]
        }
      ]
    }
  ]
}