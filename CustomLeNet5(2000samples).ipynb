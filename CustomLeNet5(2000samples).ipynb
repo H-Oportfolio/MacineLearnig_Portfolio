{
  "nbformat": 4,
  "nbformat_minor": 0,
  "metadata": {
    "colab": {
      "provenance": []
    },
    "kernelspec": {
      "name": "python3",
      "display_name": "Python 3"
    },
    "language_info": {
      "name": "python"
    }
  },
  "cells": [
    {
      "cell_type": "code",
      "execution_count": null,
      "metadata": {
        "id": "EB7WQv7cV1VX"
      },
      "outputs": [],
      "source": [
        "import keras\n",
        "from keras.datasets import mnist\n",
        "from keras.models import Sequential\n",
        "from keras import layers\n",
        "from keras.layers import Dense, Dropout, InputLayer, Conv2D, MaxPooling2D, Flatten ,BatchNormalization\n",
        "from keras.optimizers import Adam\n",
        "from tensorflow.keras.preprocessing.image import ImageDataGenerator\n",
        "!pip install -q -U keras-tuner\n",
        "import keras_tuner as kt"
      ]
    },
    {
      "cell_type": "code",
      "source": [
        "# MNISTデータを読込む\n",
        "(x_train, y_train), (x_test, y_test) = mnist.load_data()\n",
        "\n",
        "# MNISTデータを加工する\n",
        "img_rows, img_cols = 28, 28\n",
        "x_train = x_train.reshape(x_train.shape[0], img_rows, img_cols, 1)\n",
        "x_test = x_test.reshape(x_test.shape[0], img_rows, img_cols, 1)\n",
        "# リストの後ろからN個の要素を削除\n",
        "x_train = x_train[:-58000]\n",
        "y_train = y_train[:-58000]\n",
        "x_train  = x_train.astype('float32')\n",
        "x_test   = x_test.astype('float32')\n",
        "x_train /= 255\n",
        "x_test  /= 255\n",
        "y_train  = keras.utils.to_categorical(y_train, 10)\n",
        "y_test   = keras.utils.to_categorical(y_test, 10)"
      ],
      "metadata": {
        "id": "0Vm69BO8WFct",
        "colab": {
          "base_uri": "https://localhost:8080/"
        },
        "outputId": "ab474a3d-9465-4e95-9f81-5247fa2263bf"
      },
      "execution_count": null,
      "outputs": [
        {
          "output_type": "stream",
          "name": "stdout",
          "text": [
            "Downloading data from https://storage.googleapis.com/tensorflow/tf-keras-datasets/mnist.npz\n",
            "\u001b[1m11490434/11490434\u001b[0m \u001b[32m━━━━━━━━━━━━━━━━━━━━\u001b[0m\u001b[37m\u001b[0m \u001b[1m0s\u001b[0m 0us/step\n"
          ]
        }
      ]
    },
    {
      "cell_type": "code",
      "source": [
        "#モデルを定義する\n",
        "def build_model(hp):\n",
        "  model = Sequential()\n",
        "  model.add(InputLayer(input_shape=(img_rows, img_cols, 1)))\n",
        "  #畳み込み層(1)\n",
        "  model.add(Conv2D(filters=hp.Choice('filters1', [6, 16, 32]), kernel_size=(3, 3), activation='relu'))\n",
        "  #プーリング層(1)\n",
        "  model.add(MaxPooling2D(pool_size=(2, 2)))\n",
        "  #畳み込み層(2)\n",
        "  model.add(Conv2D(filters=hp.Choice('filters2', [16, 32, 64]), kernel_size=(3, 3), activation='relu'))\n",
        "  #プーリング層(2)\n",
        "  model.add(MaxPooling2D(pool_size=(2, 2)))\n",
        "  model.add(Flatten())\n",
        "  model.add(Dense(hp.Int('dense_units', 32, 512, step=32), activation='relu'))\n",
        "  model.add(BatchNormalization())\n",
        "  model.add(Dropout(hp.Float('dropout_rate', 0.1, 0.5, step=0.1)))\n",
        "  model.add(Dense(units=120, activation=hp.Choice(\"activation1\", [\"relu\", \"tanh\"])))\n",
        "  model.add(Dense(units=84, activation=hp.Choice(\"activation2\", [\"relu\", \"tanh\"])))\n",
        "  model.add(Dense(units=10, activation = 'softmax'))\n",
        "  learning_rate = hp.Float(\"lr\", min_value=1e-5, max_value=1e-2, sampling=\"log\")\n",
        "  model.compile(\n",
        "        optimizer=keras.optimizers.Adam(learning_rate=learning_rate),\n",
        "        loss=\"categorical_crossentropy\",\n",
        "        metrics=[\"accuracy\"],\n",
        "    )\n",
        "  return model"
      ],
      "metadata": {
        "id": "9MJfVFKAacuB"
      },
      "execution_count": null,
      "outputs": []
    },
    {
      "cell_type": "code",
      "source": [
        "#ハイパーパラメータ探索を行うTunerを作成\n",
        "tuner = kt.Hyperband(\n",
        "    hypermodel=build_model,\n",
        "    objective='val_accuracy',\n",
        "    max_epochs=60,\n",
        ")"
      ],
      "metadata": {
        "colab": {
          "base_uri": "https://localhost:8080/"
        },
        "id": "-h1Fj8ltz_eF",
        "outputId": "9f8be80d-a747-4953-c5a5-05fd53c36749"
      },
      "execution_count": null,
      "outputs": [
        {
          "output_type": "stream",
          "name": "stderr",
          "text": [
            "/usr/local/lib/python3.11/dist-packages/keras/src/layers/core/input_layer.py:27: UserWarning: Argument `input_shape` is deprecated. Use `shape` instead.\n",
            "  warnings.warn(\n"
          ]
        }
      ]
    },
    {
      "cell_type": "code",
      "source": [
        "#実際に探索する\n",
        "tuner.search(x_train, y_train,\n",
        "             validation_data=(x_test, y_test),\n",
        "             callbacks=[keras.callbacks.EarlyStopping(monitor='val_accuracy', mode='max', patience=10)], epochs=60)"
      ],
      "metadata": {
        "colab": {
          "base_uri": "https://localhost:8080/"
        },
        "id": "HvflHJhc4RAa",
        "outputId": "95b979ea-66b0-42f1-baa6-0ed53e3300a5"
      },
      "execution_count": null,
      "outputs": [
        {
          "output_type": "stream",
          "name": "stdout",
          "text": [
            "Trial 90 Complete [00h 01m 54s]\n",
            "val_accuracy: 0.9617999792098999\n",
            "\n",
            "Best val_accuracy So Far: 0.9743000268936157\n",
            "Total elapsed time: 01h 29m 29s\n"
          ]
        }
      ]
    },
    {
      "cell_type": "code",
      "source": [
        "models = tuner.get_best_models(num_models=2)\n",
        "best_model = models[0]\n",
        "score = best_model.evaluate(x_test, y_test, verbose=1)\n",
        "print(\"Test loss:\", score[0])\n",
        "print(\"Test accuracy:\", score[1])"
      ],
      "metadata": {
        "colab": {
          "base_uri": "https://localhost:8080/"
        },
        "id": "w9lFQRhGQqAD",
        "outputId": "2fc6d86a-4394-4bef-d22c-5119f66a8173"
      },
      "execution_count": null,
      "outputs": [
        {
          "output_type": "stream",
          "name": "stdout",
          "text": [
            "\u001b[1m313/313\u001b[0m \u001b[32m━━━━━━━━━━━━━━━━━━━━\u001b[0m\u001b[37m\u001b[0m \u001b[1m3s\u001b[0m 8ms/step - accuracy: 0.9683 - loss: 0.1424\n",
            "Test loss: 0.12060487270355225\n",
            "Test accuracy: 0.9743000268936157\n"
          ]
        }
      ]
    }
  ]
}